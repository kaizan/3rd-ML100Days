{
  "nbformat": 4,
  "nbformat_minor": 0,
  "metadata": {
    "colab": {
      "name": "Untitled1.ipynb",
      "version": "0.3.2",
      "provenance": [],
      "collapsed_sections": [],
      "toc_visible": true
    },
    "kernelspec": {
      "name": "python3",
      "display_name": "Python 3"
    }
  },
  "cells": [
    {
      "cell_type": "markdown",
      "metadata": {
        "id": "EXM1OjDevL63",
        "colab_type": "text"
      },
      "source": [
        ""
      ]
    },
    {
      "cell_type": "markdown",
      "metadata": {
        "id": "Or6z2bexvNPt",
        "colab_type": "text"
      },
      "source": [
        "## [作業1]\n",
        "#### 請寫一個函式用來計算 Mean Square Error\n",
        "$ MSE = \\frac{1}{n}\\sum_{i=1}^{n}{(Y_i - \\hat{Y}_i)^2} $\n",
        "\n",
        "### Hint: [如何取平方](https://googoodesign.gitbooks.io/-ezpython/unit-1.html)"
      ]
    },
    {
      "cell_type": "code",
      "metadata": {
        "id": "Ftj3hbn8xAbh",
        "colab_type": "code",
        "colab": {}
      },
      "source": [
        "import numpy as np\n",
        "import matplotlib.pyplot as plt"
      ],
      "execution_count": 0,
      "outputs": []
    },
    {
      "cell_type": "code",
      "metadata": {
        "id": "KsguximTxEa9",
        "colab_type": "code",
        "colab": {}
      },
      "source": [
        "def mean_absolute_error(y, yp):\n",
        "    \"\"\"\n",
        "    計算 MAE\n",
        "    Args:\n",
        "        - y: 實際值\n",
        "        - yp: 預測值\n",
        "    Return:\n",
        "        - mae: MAE\n",
        "    \"\"\"\n",
        "    mae = MAE = sum(abs(y - yp)) / len(y)\n",
        "    return mae\n",
        "\n",
        "def mean_squared_error(y, yp):\n",
        "    mse = MSE = sum((y - yp)**2) / len(y)\n",
        "    return mse"
      ],
      "execution_count": 0,
      "outputs": []
    },
    {
      "cell_type": "code",
      "metadata": {
        "id": "vDtkleEYngFr",
        "colab_type": "code",
        "outputId": "23d70ce8-ee72-4f71-e587-3de28199b840",
        "colab": {
          "base_uri": "https://localhost:8080/",
          "height": 281
        }
      },
      "source": [
        "w = 3\n",
        "b = 0.5\n",
        "x_lin = np.linspace(0, 100, 101)\n",
        "y = (x_lin + np.random.randn(101) * 5) * w + b\n",
        "\n",
        "plt.plot(x_lin, y, 'b.', label = 'data points')\n",
        "plt.title(\"Assume we have data points\")\n",
        "plt.legend(loc = 2)\n",
        "plt.show()"
      ],
      "execution_count": 0,
      "outputs": [
        {
          "output_type": "display_data",
          "data": {
            "image/png": "[encoded data removed]",
            "text/plain": [
              "<Figure size 432x288 with 1 Axes>"
            ]
          },
          "metadata": {
            "tags": []
          }
        }
      ]
    },
    {
      "cell_type": "code",
      "metadata": {
        "id": "3Z62dpi8nmWO",
        "colab_type": "code",
        "outputId": "410a5fb1-f7cc-44f0-e654-38977e585725",
        "colab": {
          "base_uri": "https://localhost:8080/",
          "height": 281
        }
      },
      "source": [
        "y_hat = x_lin * w + b\n",
        "plt.plot(x_lin, y, 'b.', label = 'data')\n",
        "plt.plot(x_lin, y_hat, 'r-', label = 'prediction')\n",
        "plt.title(\"Assume we have data points (And the prediction)\")\n",
        "plt.legend(loc = 2)\n",
        "plt.show()"
      ],
      "execution_count": 0,
      "outputs": [
        {
          "output_type": "display_data",
          "data": {
            "image/png": "[encoded data removed]",
            "text/plain": [
              "<Figure size 432x288 with 1 Axes>"
            ]
          },
          "metadata": {
            "tags": []
          }
        }
      ]
    },
    {
      "cell_type": "code",
      "metadata": {
        "id": "cF7jXI3nn7BI",
        "colab_type": "code",
        "outputId": "87e4a531-fb86-4add-a2d6-7afa08c94733",
        "colab": {
          "base_uri": "https://localhost:8080/",
          "height": 53
        }
      },
      "source": [
        "MSE = mean_squared_error(y, y_hat)\n",
        "MAE = mean_absolute_error(y, y_hat)\n",
        "print(\"The Mean squared error is %.3f\" % (MSE))\n",
        "print(\"The Mean absolute error is %.3f\" % (MAE))"
      ],
      "execution_count": 0,
      "outputs": [
        {
          "output_type": "stream",
          "text": [
            "The Mean squared error is 209.681\n",
            "The Mean absolute error is 11.037\n"
          ],
          "name": "stdout"
        }
      ]
    },
    {
      "cell_type": "markdown",
      "metadata": {
        "id": "taY6xFeMFusj",
        "colab_type": "text"
      },
      "source": [
        "# [作業2]\n",
        "\n",
        "請上 Kaggle, 在 Competitions 或 Dataset 中找一組競賽或資料並寫下：\n",
        "\n",
        "1. 你選的這組資料為何重要\n",
        "\n",
        "  我選擇的是 International football results from 1872 to 2019 這一組資料,可從資料分佈了解哪支球隊主宰了不同的足球時代,多年來國際足球有哪些趨勢 - 主場優勢，總進球數，球隊實力分佈等,未來可作為分析球員表現和球隊排名。包括 : 誰是最穩定的球隊？誰最不一致？ 哪個聯盟最強？ 哪支球隊最具統治力？ 哪個下降最多？\n",
        "  倘若再加上球員所屬聯盟球隊成績,又或者主辦國家資訊與這些資料將可用來分析與預測接下來FIFA的比賽場次的贏球率等。\n",
        "  \n",
        "2. 資料從何而來 (tips: 譬如提供者是誰、以什麼方式蒐集)\n",
        "  \n",
        "  維基百科，fifa.com，rsssf.com和個人足球協會的網站。\n",
        "\n",
        "3. 蒐集而來的資料型態為何?\n",
        "\n",
        "  CSV format ,type 包括 : string, bool, int, date\n",
        "\n",
        "4. 這組資料想解決的問題如何評估\n",
        "\n",
        "  used a simple Logistic regression, which yielded already rather good performance.\n",
        "  由比賽結果進行評估調整。\n",
        "\n",
        "\n",
        "# [作業3]\n",
        "\n",
        "想像你經營一個自由載客車隊，你希望能透過數據分析以提升業績，請你思考並描述你如何規劃整體的分析/解決方案：\n",
        "\n",
        "1. 核心問題為何 (tips：如何定義 「提升業績 & 你的假設」)?\n",
        "\n",
        "  載客車隊以提升業績為目標，可以透過地區性的過往載客記錄為主，包括上下車時間/地點/運載所需時間/當時路況/天氣/節日等考量數據。\n",
        "  以數據分析的方式來提升業績,這邊假設以最短路徑與尖峰時間來提高我司車隊的運載量,基礎核心問題與解決方案有: \n",
        "  (1) 在最多需求的時段與地點提供可優化之派車路徑與縮短等候乘客之時間(也就是說,降低在尖峰時段的空車率與提高接載數\n",
        "  (2) 需要過往同業的每日載客量與常態最大業績量資料\n",
        "  (3) 以團體戰為方式分散取得載客量,避免同一地點分派\n",
        "  \n",
        "2. 資料從何而來 (tips：哪些資料可能會對你想問的問題產生影響 & 資料如何蒐集)?\n",
        "\n",
        "  資料將由以下方式取得:\n",
        "  (1)我司APP (包括上下車時間/地點/運載所需時間/當時路況/天氣/節日)\n",
        "  (2) google map 路況\n",
        "  (3) 氣象局\n",
        "  (4) 收集同業車況(經過地點行車記錄器,是否空車,同行探聽,排球等待時間...)\n",
        "  \n",
        "3. 蒐集而來的資料型態為何?\n",
        "\n",
        "  時間(datetime),地點(string),距離(float),費用(int),天氣(int),節日(date)\n",
        "  \n",
        "4. 你要回答的問題，其如何評估 (tips：你的假設如何驗證)?\n",
        "\n",
        "  利用收集回來的資料進行分析,並調整司機分配等待路徑以提升載客頻率,或增加搭車區域較頻繁的車量等方案來評估。\n",
        "\n"
      ]
    }
  ]
}