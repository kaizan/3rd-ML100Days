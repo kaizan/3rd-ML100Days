{
  "nbformat": 4,
  "nbformat_minor": 0,
  "metadata": {
    "colab": {
      "name": "Untitled0.ipynb",
      "version": "0.3.2",
      "provenance": [],
      "collapsed_sections": []
    },
    "kernelspec": {
      "name": "python3",
      "display_name": "Python 3"
    }
  },
  "cells": [
    {
      "cell_type": "code",
      "metadata": {
        "id": "dsPHGRPpn18G",
        "colab_type": "code",
        "colab": {}
      },
      "source": [
        ""
      ],
      "execution_count": 0,
      "outputs": []
    },
    {
      "cell_type": "markdown",
      "metadata": {
        "id": "i92vvWGVeAr9",
        "colab_type": "text"
      },
      "source": [
        "## [作業目標]\n",
        "了解機器學習適合應用的領域與範疇。"
      ]
    },
    {
      "cell_type": "markdown",
      "metadata": {
        "id": "AwfCjUQhgIie",
        "colab_type": "text"
      },
      "source": [
        "## [作業重點]\n",
        "透過瞭解機器學習的運作方式，找出非常適用機器學習應用的領域及其原因"
      ]
    },
    {
      "cell_type": "markdown",
      "metadata": {
        "id": "2_NBWOAWgLhT",
        "colab_type": "text"
      },
      "source": [
        "## 作業\n",
        "請找出一個你認為機器學習可以發光發熱的領域並闡述原因? \n",
        "\n",
        "以往對於大眾的認知上 ，AI 可能是「科技業」領域所發展和應用的領域，但隨著「數位化、智慧化」的速度越來越快，在各領域應用都和科技應用無法脫離。\n",
        "\n",
        "以現今各領域而言無不和智慧化產生關聯，從智慧製造、智慧運輸、智慧支付、智慧醫療、智慧家庭，進而用「智慧城市」涵蓋所有應用範疇。\n",
        "\n",
        "相信幾年後，在談到各行各業的時候，會把「智慧」兩個字都省了，因為大部分的行業都已經智慧化，不需要再畫蛇添足的去強調智慧。\n",
        "\n",
        "然而，這幾年令人驚奇的是，這個「AI化」的速度，遠比我們想像的要快。\n",
        "\n",
        "隨著人工智慧AI快速發展，每家企業都擁有AI的元素，「數位化、智慧化」的速度越來越快，企業變得更聰明，更加依賴機器分析和決策，未來幾乎所有企業都可稱為「AI公司」或「科技公司」。\n",
        "\n",
        "如果要找出一個最為發光發熱且對人類影響最大的，我相信會是醫療。\n",
        "\n",
        "例如 ：Adaptive Biotechnologies，這家公司和微軟合作，共同進行人體免疫系統基因分析，以至於能及早偵測癌症和其他疾病。\n",
        "\n",
        "例如 ：台北榮總推出的「AI輔助門診」，要把腦轉移瘤的診斷時間大幅縮短，從20分鐘降到20秒。\n",
        "\n",
        "在AI導入下，醫療照護、醫療診斷、製藥等皆有所突破，對於人類的AI 醫療的應用，可以藉由深度學習來增加準確度對人類來說可是一大福因。無論科技再蓬勃發生，生命科學領域一直是人類未能大躍進的領域，相信再不久的未來藉由 AI 可以把醫療和生命科學推展更快更進步。\n"
      ]
    }
  ]
}