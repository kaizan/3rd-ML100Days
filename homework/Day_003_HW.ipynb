{
  "nbformat": 4,
  "nbformat_minor": 0,
  "metadata": {
    "kernelspec": {
      "display_name": "Python 3",
      "language": "python",
      "name": "python3"
    },
    "language_info": {
      "codemirror_mode": {
        "name": "ipython",
        "version": 3
      },
      "file_extension": ".py",
      "mimetype": "text/x-python",
      "name": "python",
      "nbconvert_exporter": "python",
      "pygments_lexer": "ipython3",
      "version": "3.7.0"
    },
    "colab": {
      "name": "Day_003_HW_Kzn.ipynb",
      "version": "0.3.2",
      "provenance": [],
      "collapsed_sections": [],
      "toc_visible": true
    }
  },
  "cells": [
    {
      "cell_type": "markdown",
      "metadata": {
        "id": "MIqf-h7IKDnV",
        "colab_type": "text"
      },
      "source": [
        "## [作業目標]\n",
        "持續接觸有關機器學習的相關專案與最新技術"
      ]
    },
    {
      "cell_type": "markdown",
      "metadata": {
        "id": "A5d8bjB7KDnX",
        "colab_type": "text"
      },
      "source": [
        "## [作業重點]\n",
        "透過觀察頂尖公司的機器學習文章，來了解各公司是怎麼應用機器學習在實際的專案上"
      ]
    },
    {
      "cell_type": "markdown",
      "metadata": {
        "id": "gRSEMexXKDnY",
        "colab_type": "text"
      },
      "source": [
        "## [作業]\n",
        "今天的作業希望大家能夠看看全球機器學習巨頭們在做的機器學習專案。以 google 為例，下圖是 Google 內部專案使用機器學習的數量，隨著時間進展，現在早已超過 2000 個專案在使用機器學習。"
      ]
    },
    {
      "cell_type": "markdown",
      "metadata": {
        "id": "1fDSv3hkKDnZ",
        "colab_type": "text"
      },
      "source": [
        "![image](https://cdn-images-1.medium.com/max/800/1*U_L8qI8RmYS-MOBrYvXhSA.png)"
      ]
    },
    {
      "cell_type": "markdown",
      "metadata": {
        "id": "NndhXI42KDnZ",
        "colab_type": "text"
      },
      "source": [
        "底下幫同學整理幾間知名企業的 blog 或機器學習網站 (自行搜尋也可)，這些網站都會整理最新的機器學習專案或者是技術文章，請挑選一篇文章閱讀並試著回答\n",
        "1. 專案的目標？ (要解決什麼問題）\n",
        "2. 使用的技術是？ (只需知道名稱即可，例如：使用 CNN 卷積神經網路做影像分類)\n",
        "3. 資料來源？ "
      ]
    },
    {
      "cell_type": "markdown",
      "metadata": {
        "id": "I-Bki6XAKDna",
        "colab_type": "text"
      },
      "source": [
        "- [Google AI blog](https://ai.googleblog.com/)\n",
        "- [Facebook Research blog](https://research.fb.com/blog/)\n",
        "- [Apple machine learning journal](https://machinelearning.apple.com/)\n",
        "- [機器之心](https://www.jiqizhixin.com/)\n",
        "- [雷鋒網](http://www.leiphone.com/category/ai)"
      ]
    },
    {
      "cell_type": "code",
      "metadata": {
        "id": "VfvtpPGvKDnc",
        "colab_type": "code",
        "colab": {}
      },
      "source": [
        ""
      ],
      "execution_count": 0,
      "outputs": []
    },
    {
      "cell_type": "markdown",
      "metadata": {
        "id": "UWcEGR0XPION",
        "colab_type": "text"
      },
      "source": [
        "我挑選的文章是 Facebook Research blog 上的 : **Optimizing 360 photos at scale**\n",
        "\n",
        "\n",
        "\n",
        "1.  專案的目標？ (要解決什麼問題）\n",
        "\n",
        "   對傳統照片，用編輯軟體修正這種傾斜是一件簡單直接的事，但是能用於全景照片的這類工具並不多，且修正球面上的傾斜旋轉相當不直覺。另外，全景照片讓人覺得全景照片不夠真實的最常見原因之一就是拍照時相機沒有持平，最終照片也沒有修復傾斜，完全破壞了真實感。\n",
        "   Facebook 研發人員想開發出一種能自動修正相機旋轉所帶來照片傾斜旋轉問題的方法，讓手機拍攝的照片有更真實的包圍感。\n",
        "   \n",
        "2.  使用的技術是？ (只需知道名稱即可，例如：使用 CNN 卷積神經網路做影像分類)\n",
        "\n",
        "  Facebook 研究人員使用了著名的深度神經網路架構 AlexNet，並對它做了一些修改。\n",
        "\n",
        "3.  資料來源？\n",
        "\n",
        "   用戶公開上傳到 Facebook 的上千萬張全景照片形成一個強有力的新資料集，Facebook 研發人員就可以利用這個資料集改善產品。這些資料可和機器學習聯合，帶來更好的使用體驗。\n",
        "\n",
        "\n",
        "\n",
        "> reference : https://engineering.fb.com/ml-applications/optimizing-360-photos-at-scale/\n",
        "\n",
        "\n"
      ]
    }
  ]
}