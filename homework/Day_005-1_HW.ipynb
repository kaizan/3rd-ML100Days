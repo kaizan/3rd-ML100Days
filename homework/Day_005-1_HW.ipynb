{
  "nbformat": 4,
  "nbformat_minor": 0,
  "metadata": {
    "kernelspec": {
      "display_name": "Python 3",
      "language": "python",
      "name": "python3"
    },
    "language_info": {
      "codemirror_mode": {
        "name": "ipython",
        "version": 3
      },
      "file_extension": ".py",
      "mimetype": "text/x-python",
      "name": "python",
      "nbconvert_exporter": "python",
      "pygments_lexer": "ipython3",
      "version": "3.6.1"
    },
    "colab": {
      "name": "Day_005-1_HW.ipynb",
      "version": "0.3.2",
      "provenance": [],
      "collapsed_sections": [],
      "toc_visible": true
    }
  },
  "cells": [
    {
      "cell_type": "markdown",
      "metadata": {
        "id": "hZ7gbV6-0Gf7",
        "colab_type": "text"
      },
      "source": [
        "# [作業目標]\n",
        "- 利用範例的創建方式, 創建一組資料, 並練習如何取出最大值"
      ]
    },
    {
      "cell_type": "markdown",
      "metadata": {
        "id": "WSQKtPQq0Gf8",
        "colab_type": "text"
      },
      "source": [
        "# [作業重點]\n",
        "- 練習創立 DataFrame (In[2])\n",
        "- 如何取出口數最多的國家 (In[3], Out[3])"
      ]
    },
    {
      "cell_type": "markdown",
      "metadata": {
        "id": "UTTEcffQ0Gf9",
        "colab_type": "text"
      },
      "source": [
        "## 練習時間\n",
        "在小量的資料上，我們用眼睛就可以看得出來程式碼是否有跑出我們理想中的結果\n",
        "\n",
        "請嘗試想像一個你需要的資料結構 (裡面的值可以是隨機的)，然後用上述的方法把它變成 pandas DataFrame\n",
        "\n",
        "#### Ex: 想像一個 dataframe 有兩個欄位，一個是國家，一個是人口，求人口數最多的國家\n",
        "\n",
        "### Hints: [隨機產生數值](https://blog.csdn.net/christianashannon/article/details/78867204)"
      ]
    },
    {
      "cell_type": "code",
      "metadata": {
        "id": "ELt_uudM0Gf-",
        "colab_type": "code",
        "colab": {}
      },
      "source": [
        "import pandas as pd\n",
        "import numpy as np\n",
        "import random"
      ],
      "execution_count": 0,
      "outputs": []
    },
    {
      "cell_type": "code",
      "metadata": {
        "id": "BG0GpzzT0GgC",
        "colab_type": "code",
        "colab": {
          "base_uri": "https://localhost:8080/",
          "height": 89
        },
        "outputId": "8b323131-07bf-4fdd-81a1-204e74ca7f2b"
      },
      "source": [
        "def random_int_list(start,stop,length):   #產生隨機數\n",
        "    start,stop = (int(start),int(stop)) if start <= stop else (int(stop),int(start))\n",
        "    length = int(abs(length)) if length else 0\n",
        "    random_list = []\n",
        "    for i in range(length):\n",
        "        random_list.append(random.randint(start,stop))\n",
        "    return random_list\n",
        "\n",
        "people = random_int_list(1300000000,1500000000,2)\n",
        "visitors = [people[0], people[1]]\n",
        "countries = ['India', 'China']\n",
        "list_labels = ['country', 'population']\n",
        "list_cols = [countries, visitors]\n",
        "\n",
        "zipped = list(zip(list_labels, list_cols))\n",
        "visitors_data = pd.DataFrame(dict(zipped))\n",
        "visitors_sort = visitors_data.sort_values(by = 'population')\n",
        "print('----- random data -----')\n",
        "print(visitors_sort)"
      ],
      "execution_count": 22,
      "outputs": [
        {
          "output_type": "stream",
          "text": [
            "----- random data -----\n",
            "  country  population\n",
            "0   India  1315556493\n",
            "1   China  1340520896\n"
          ],
          "name": "stdout"
        }
      ]
    },
    {
      "cell_type": "code",
      "metadata": {
        "id": "zlvJlWzl0GgM",
        "colab_type": "code",
        "colab": {
          "base_uri": "https://localhost:8080/",
          "height": 71
        },
        "outputId": "b2d91730-aefa-428b-b0b8-a33a94f29f63"
      },
      "source": [
        "print('----- most people country -----')\n",
        "print(visitors_sort[-1:])"
      ],
      "execution_count": 23,
      "outputs": [
        {
          "output_type": "stream",
          "text": [
            "----- most people country -----\n",
            "  country  population\n",
            "1   China  1340520896\n"
          ],
          "name": "stdout"
        }
      ]
    }
  ]
}